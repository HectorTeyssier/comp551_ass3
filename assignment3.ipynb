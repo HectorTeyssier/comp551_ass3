{
 "cells": [
  {
   "cell_type": "markdown",
   "metadata": {},
   "source": [
    "Assignment 3"
   ]
  },
  {
   "cell_type": "code",
   "execution_count": 1,
   "metadata": {},
   "outputs": [],
   "source": [
    "import pickle \n",
    "import numpy as np\n",
    "import torch\n",
    "import torch.nn as nn \n",
    "import torch.optim as optim\n",
    "import torch.nn.functional as F\n",
    "import matplotlib.pyplot as plt\n",
    "%matplotlib inline\n",
    "\n",
    "from sklearn.metrics import accuracy_score\n",
    "from sklearn.model_selection import train_test_split\n",
    "\n",
    "with open(\"/Users/hectorteyssier/Downloads/comp-551-fall-2021/labels_l.pkl\", 'rb') as f: \n",
    "    label = pickle.load(f)\n",
    "\n",
    "with open(\"/Users/hectorteyssier/Downloads/comp-551-fall-2021/images_l.pkl\", 'rb') as f: \n",
    "    images_l = pickle.load(f)\n",
    "\n",
    "with open(\"/Users/hectorteyssier/Downloads/comp-551-fall-2021/images_test.pkl\", 'rb') as f: \n",
    "    test_images = pickle.load(f)"
   ]
  },
  {
   "cell_type": "code",
   "execution_count": 2,
   "metadata": {},
   "outputs": [
    {
     "data": {
      "text/plain": [
       "(<AxesSubplot:>, <matplotlib.image.AxesImage at 0x1046bc3a0>)"
      ]
     },
     "execution_count": 2,
     "metadata": {},
     "output_type": "execute_result"
    },
    {
     "data": {
      "image/png": "[encoded data removed]",
      "text/plain": [
       "<Figure size 720x720 with 4 Axes>"
      ]
     },
     "metadata": {
      "needs_background": "light"
     },
     "output_type": "display_data"
    }
   ],
   "source": [
    "# We visualize some of the images from the dataset\n",
    "\n",
    "plt.figure(figsize=(10,10))\n",
    "plt.subplot(221), plt.imshow(images_l[0], cmap='gray')\n",
    "plt.subplot(222), plt.imshow(images_l[25], cmap='gray')\n",
    "plt.subplot(223), plt.imshow(images_l[50], cmap='gray')\n",
    "plt.subplot(224), plt.imshow(images_l[4783], cmap='gray')"
   ]
  },
  {
   "cell_type": "code",
   "execution_count": 3,
   "metadata": {},
   "outputs": [],
   "source": [
    "# https://www.analyticsvidhya.com/blog/2019/10/building-image-classification-models-cnn-pytorch/"
   ]
  },
  {
   "cell_type": "code",
   "execution_count": 4,
   "metadata": {},
   "outputs": [
    {
     "name": "stdout",
     "output_type": "stream",
     "text": [
      "(30000, 36)\n",
      "(30000, 56, 56)\n",
      "(15000, 56, 56)\n"
     ]
    }
   ],
   "source": [
    "# We create training set, label for training set and test set numpy array. \n",
    "X_training = images_l\n",
    "y_training = label\n",
    "X_test = test_images\n",
    "\n",
    "print(y_training.shape)\n",
    "print(X_training.shape)\n",
    "print(X_test.shape)"
   ]
  },
  {
   "cell_type": "code",
   "execution_count": 5,
   "metadata": {},
   "outputs": [
    {
     "data": {
      "text/plain": [
       "(((27000, 56, 56), (27000, 36)), ((3000, 56, 56), (3000, 36)))"
      ]
     },
     "execution_count": 5,
     "metadata": {},
     "output_type": "execute_result"
    }
   ],
   "source": [
    "# We create a validation set\n",
    "X_training, X_val, y_training, y_val = train_test_split(X_training, y_training, test_size = 0.1)\n",
    "(X_training.shape, y_training.shape), (X_val.shape, y_val.shape)"
   ]
  },
  {
   "cell_type": "code",
   "execution_count": 6,
   "metadata": {},
   "outputs": [],
   "source": [
    "# We now convert the data to torch format\n",
    "\n",
    "X_training = X_training.reshape(27000, 1, 56, 56)\n",
    "X_training = torch.from_numpy(X_training)\n",
    "y_training = torch.from_numpy(y_training)\n",
    "\n",
    "X_val = X_val.reshape(3000, 1, 56, 56)\n",
    "X_val = torch.from_numpy(X_val)\n",
    "y_val = torch.from_numpy(y_val)\n",
    "\n",
    "X_test = X_test.reshape(15000, 1, 56, 56)\n",
    "X_test = torch.from_numpy(X_test)"
   ]
  },
  {
   "cell_type": "code",
   "execution_count": 7,
   "metadata": {},
   "outputs": [],
   "source": [
    "# We define a neural network with:\n",
    "# - 2 convolutional layers \n",
    "# - 3 linear layers \n",
    "\n",
    "class Net(nn.Module):\n",
    "\n",
    "    def __init__(self):\n",
    "        super(Net, self).__init__()\n",
    "        self.conv1 = nn.Conv2d(1, 6, 3)\n",
    "        self.conv2 = nn.Conv2d(6, 16, 3)\n",
    "        self.fc1 = nn.Linear(16 * 12 * 12, 120)\n",
    "        self.fc2 = nn.Linear(120, 84)\n",
    "        self.fc3 = nn.Linear(84, 36)\n",
    "\n",
    "    def forward(self, x):\n",
    "        x = F.max_pool2d(F.relu(self.conv1(x)), (2, 2))\n",
    "        x = F.max_pool2d(F.relu(self.conv2(x)), 2)\n",
    "        x = x.view(-1, self.num_flat_features(x))\n",
    "        x = F.relu(self.fc1(x))\n",
    "        x = F.relu(self.fc2(x))\n",
    "        x = self.fc3(x)\n",
    "        return x\n",
    "\n",
    "    def num_flat_features(self, x):\n",
    "        size = x.size()[1:]  # all dimensions except the batch dimension\n",
    "        num_features = 1\n",
    "        for s in size:\n",
    "            num_features *= s\n",
    "        return num_features\n",
    "\n",
    "\n",
    "net = Net()"
   ]
  },
  {
   "cell_type": "code",
   "execution_count": 8,
   "metadata": {},
   "outputs": [
    {
     "name": "stdout",
     "output_type": "stream",
     "text": [
      "tensor([[ 0.0025,  0.0194,  0.0355, -0.0459,  0.0099,  0.0266, -0.0046, -0.0554,\n",
      "          0.0517,  0.0487, -0.0992,  0.0524, -0.0806,  0.1368, -0.0543,  0.0184,\n",
      "          0.0828, -0.0306, -0.1319, -0.0173, -0.0873,  0.0200, -0.0949,  0.0530,\n",
      "         -0.1362, -0.0758,  0.0688,  0.1204, -0.0434,  0.0894, -0.0549,  0.0761,\n",
      "         -0.0671, -0.0209,  0.0749,  0.0093]], grad_fn=<AddmmBackward0>)\n"
     ]
    }
   ],
   "source": [
    "# We test the net with a random input of the same shape as the data\n",
    "input = torch.randn(1, 1, 56, 56)\n",
    "out = net(input)\n",
    "print(out)"
   ]
  },
  {
   "cell_type": "code",
   "execution_count": 9,
   "metadata": {},
   "outputs": [
    {
     "name": "stdout",
     "output_type": "stream",
     "text": [
      "Net(\n",
      "  (conv1): Conv2d(1, 6, kernel_size=(3, 3), stride=(1, 1))\n",
      "  (conv2): Conv2d(6, 16, kernel_size=(3, 3), stride=(1, 1))\n",
      "  (fc1): Linear(in_features=2304, out_features=120, bias=True)\n",
      "  (fc2): Linear(in_features=120, out_features=84, bias=True)\n",
      "  (fc3): Linear(in_features=84, out_features=36, bias=True)\n",
      ")\n"
     ]
    }
   ],
   "source": [
    "# We set the net to work with float values, and print its characteristic\n",
    "net = net.float()\n",
    "print(net)"
   ]
  },
  {
   "cell_type": "code",
   "execution_count": 10,
   "metadata": {},
   "outputs": [],
   "source": [
    "# We set the loss and the gradient method used during training the net \n",
    "criterion = nn.CrossEntropyLoss()\n",
    "optimizer = optim.SGD(net.parameters(), lr=0.001, momentum=0.9)"
   ]
  },
  {
   "cell_type": "code",
   "execution_count": 11,
   "metadata": {},
   "outputs": [
    {
     "name": "stdout",
     "output_type": "stream",
     "text": [
      "cpu\n"
     ]
    }
   ],
   "source": [
    "device = torch.device(\"cuda:0\" if torch.cuda.is_available() else \"cpu\")\n",
    "print(device)"
   ]
  },
  {
   "cell_type": "markdown",
   "metadata": {},
   "source": [
    "This is a try of implementation for bootstrap (i.e. with batches).\n",
    "We get an accuracy of 2.8% on the validation set...\n",
    "\n",
    "NOTE: Either run the following block (i.e. bootrap implementation) or the one after (no bootstrap) as they each fit the model differently. "
   ]
  },
  {
   "cell_type": "code",
   "execution_count": 13,
   "metadata": {},
   "outputs": [
    {
     "name": "stdout",
     "output_type": "stream",
     "text": [
      "[1,  2000] loss: 6.451\n",
      "[1,  4000] loss: 6.395\n",
      "[2,  2000] loss: 6.284\n",
      "[2,  4000] loss: 6.245\n",
      "[3,  2000] loss: 6.157\n",
      "[3,  4000] loss: 6.099\n",
      "[4,  2000] loss: 6.058\n",
      "[4,  4000] loss: 6.014\n",
      "[5,  2000] loss: 5.996\n",
      "[5,  4000] loss: 5.944\n",
      "Finished Training\n"
     ]
    }
   ],
   "source": [
    "# for vizualization\n",
    "train_losses = []\n",
    "val_losses = []\n",
    "\n",
    "BATCH_SIZE = 5\n",
    "\n",
    "for epoch in range(5):  # loop over the dataset multiple times\n",
    "\n",
    "    running_loss = 0.0\n",
    "    # we go over all batches in the dataset\n",
    "    for i in range(int(len(X_training)/BATCH_SIZE)):\n",
    "        # zero the parameter gradients\n",
    "        optimizer.zero_grad()\n",
    "\n",
    "        X_training_batch = X_training[i*BATCH_SIZE:(i+1)*BATCH_SIZE]\n",
    "        y_training_batch = y_training[i*BATCH_SIZE:(i+1)*BATCH_SIZE]\n",
    "        # print(X_training_batch.shape)\n",
    "        # print(y_training_batch.shape)\n",
    "\n",
    "        # forward\n",
    "        outputs_train = net(X_training_batch.float())\n",
    "\n",
    "        # computing the loss\n",
    "        loss_train = criterion(outputs_train, y_training_batch)\n",
    "\n",
    "        # backward\n",
    "        loss_train.backward()\n",
    "        optimizer.step()\n",
    "\n",
    "        running_loss += loss_train.item()\n",
    "        if i % 2000 == 1999:    # print every 2000 mini-batches\n",
    "            print('[%d, %5d] loss: %.3f' %\n",
    "                  (epoch + 1, i + 1, running_loss / 2000))\n",
    "            running_loss = 0.0\n",
    "\n",
    "print('Finished Training')"
   ]
  },
  {
   "cell_type": "markdown",
   "metadata": {},
   "source": [
    "This is an implementation where we give the whole dataset at once, without batches. \n",
    "We get an accuracy of 0.43%..."
   ]
  },
  {
   "cell_type": "code",
   "execution_count": 302,
   "metadata": {},
   "outputs": [
    {
     "name": "stdout",
     "output_type": "stream",
     "text": [
      "Epoch :  1 \t loss : 8.32755669405063\n",
      "Epoch :  2 \t loss : 7.710823444912831\n",
      "Epoch :  3 \t loss : 7.45959378683567\n",
      "Epoch :  4 \t loss : 7.337975174546242\n",
      "Epoch :  5 \t loss : 7.262604270736376\n",
      "Finished Training\n"
     ]
    }
   ],
   "source": [
    "# for vizualization  \n",
    "train_losses = []\n",
    "val_losses = []\n",
    "\n",
    "for epoch in range(5):  # loop over the dataset multiple times\n",
    "    \n",
    "    # zero the parameter gradients\n",
    "    optimizer.zero_grad()\n",
    "\n",
    "    # forward\n",
    "    outputs_train = net(X_training.float())\n",
    "    outputs_val = net(X_val.float())\n",
    "    \n",
    "    # computing the loss\n",
    "    loss_train = criterion(outputs_train, y_training)\n",
    "    loss_val = criterion(outputs_val, y_val)\n",
    "\n",
    "    # storing losses for visualization \n",
    "    train_losses.append(loss_train.item())\n",
    "    val_losses.append(loss_val.item())\n",
    "\n",
    "    # backward \n",
    "    loss_train.backward()\n",
    "    optimizer.step()\n",
    "    \n",
    "    # printing the validation loss\n",
    "    print('Epoch : ',epoch+1, '\\t', 'loss :', loss_val.item())\n",
    "\n",
    "print('Finished Training')"
   ]
  },
  {
   "cell_type": "code",
   "execution_count": 303,
   "metadata": {},
   "outputs": [
    {
     "data": {
      "image/png": "[encoded data removed]",
      "text/plain": [
       "<Figure size 432x288 with 1 Axes>"
      ]
     },
     "metadata": {
      "needs_background": "light"
     },
     "output_type": "display_data"
    }
   ],
   "source": [
    "# Vizualising the data\n",
    "plt.plot(train_losses, label='Training loss')\n",
    "plt.plot(val_losses, label='Validation loss')\n",
    "plt.legend()\n",
    "plt.show()"
   ]
  },
  {
   "cell_type": "code",
   "execution_count": 24,
   "metadata": {},
   "outputs": [
    {
     "name": "stdout",
     "output_type": "stream",
     "text": [
      "Accuracy of the net on the validation set: 2.8000000000000003%\n"
     ]
    }
   ],
   "source": [
    "# Computing accuraccy for the validation set\n",
    "def get_clean_labels(raw_outputs, verbose=False):\n",
    "\n",
    "    dataset_size, label_number = raw_outputs.shape\n",
    "    clean_outputs = np.zeros((dataset_size,label_number))\n",
    "\n",
    "    # Separating letters from digits in two arrays\n",
    "    digit_label_raw = raw_outputs[:,0:10]\n",
    "    letter_label_raw = raw_outputs[:,10:36]\n",
    "    \n",
    "    \n",
    "    # Applying a softmax on the arrays\n",
    "    digit_softmax = torch.exp(digit_label_raw)\n",
    "    letter_softmax = torch.exp(letter_label_raw)\n",
    "    \n",
    "\n",
    "    prob_digit = list(digit_softmax.numpy())\n",
    "    prob_letter = list(letter_softmax.numpy())\n",
    "    # print(prob_digit[5])\n",
    "    # print(len(prob_digit[5]))\n",
    "\n",
    "    # Selecting the max argument for the digit array and for the letter array\n",
    "    digit_index = np.argmax(prob_digit, axis=1)\n",
    "    letter_index = np.argmax(prob_letter, axis=1)\n",
    "    \n",
    "    # building a clean output \n",
    "    for i in range(dataset_size):\n",
    "        clean_outputs[i,digit_index[i]] = 1.0\n",
    "        clean_outputs[i,10+letter_index[i]] = 1.0\n",
    "        \n",
    "    if(verbose):\n",
    "        print(\"Raw:\")\n",
    "        print(raw_outputs[5])\n",
    "        print(\"----------------\")\n",
    "\n",
    "        print(\"Raw Digit:\")\n",
    "        print(digit_label_raw[5])\n",
    "        print(digit_label_raw.shape)\n",
    "        print(\"Raw Letter:\")\n",
    "        print(letter_label_raw[5])\n",
    "        print(letter_label_raw.shape)\n",
    "        print(\"----------------\")\n",
    "\n",
    "        print(\"Softmax Digit:\")\n",
    "        print(digit_softmax[5])\n",
    "        print(digit_softmax.shape)\n",
    "        print(\"Softmax Letter:\")\n",
    "        print(letter_softmax[5])\n",
    "        print(letter_softmax.shape)\n",
    "        print(\"----------------\")\n",
    "\n",
    "        print(\"Index Digit:\")\n",
    "        print(digit_index[5])\n",
    "        print(\"Index Letter:\")\n",
    "        print(letter_index[5])\n",
    "        print(\"----------------\")\n",
    "\n",
    "        print(\"Clean out\")\n",
    "        print(clean_outputs[5])\n",
    "\n",
    "    return clean_outputs\n",
    "\n",
    "\n",
    "# passing validation set in the network\n",
    "with torch.no_grad():\n",
    "    output = net(X_val.float())\n",
    "\n",
    "results = get_clean_labels(output)\n",
    "\n",
    "print(\"Accuracy of the net on the validation set: \"+str(accuracy_score(y_val, results)*100)+\"%\")\n"
   ]
  },
  {
   "cell_type": "code",
   "execution_count": 28,
   "metadata": {},
   "outputs": [
    {
     "name": "stdout",
     "output_type": "stream",
     "text": [
      "Accuracy of the net on the validation set: 7.962962962962964%\n"
     ]
    }
   ],
   "source": [
    "# passing validation set in the network\n",
    "with torch.no_grad():\n",
    "    output = net(X_training.float())\n",
    "\n",
    "results = get_clean_labels(output)\n",
    "\n",
    "print(\"Accuracy of the net on the validation set: \"+str(accuracy_score(y_training, results)*100)+\"%\")"
   ]
  },
  {
   "cell_type": "code",
   "execution_count": 30,
   "metadata": {},
   "outputs": [],
   "source": [
    "import csv\n",
    "\n",
    "with torch.no_grad():\n",
    "    output = net(X_test.float())\n",
    "\n",
    "clean_outputs = get_clean_labels(output)\n",
    "\n",
    "header = ['# Id', 'Category']\n",
    "\n",
    "with open('submission.csv', 'w', encoding='UTF8') as f:\n",
    "    writer = csv.writer(f)\n",
    "\n",
    "    writer.writerow(header)\n",
    "\n",
    "    for i in range(len(clean_outputs)):\n",
    "        label = \"\"\n",
    "        for d in clean_outputs[i]:\n",
    "            label += str(int(d))\n",
    "\n",
    "        data = []\n",
    "        data.append(i)\n",
    "        data.append(label)\n",
    "        \n",
    "        writer.writerow(data)"
   ]
  }
 ],
 "metadata": {
  "interpreter": {
   "hash": "aee8b7b246df8f9039afb4144a1f6fd8d2ca17a180786b69acc140d282b71a49"
  },
  "kernelspec": {
   "display_name": "Python 3.9.5 64-bit",
   "language": "python",
   "name": "python3"
  },
  "language_info": {
   "codemirror_mode": {
    "name": "ipython",
    "version": 3
   },
   "file_extension": ".py",
   "mimetype": "text/x-python",
   "name": "python",
   "nbconvert_exporter": "python",
   "pygments_lexer": "ipython3",
   "version": "3.9.5"
  },
  "orig_nbformat": 4
 },
 "nbformat": 4,
 "nbformat_minor": 2
}
